{
 "cells": [
  {
   "cell_type": "markdown",
   "metadata": {},
   "source": [
    "# Welcome to tmlearn\n",
    "\n",
    "> Machine learning algorithm for the game Trackmania 2020"
   ]
  },
  {
   "cell_type": "markdown",
   "metadata": {},
   "source": [
    "## Requirements\n",
    "\n",
    "Have conda, tmenv, pytorch, torchvision installed.\n",
    "\n",
    "- Install tmenv from https://github.com/trackmania-ai/tmenv.\n",
    "- To install miniconda follow https://docs.conda.io/en/latest/miniconda.html.\n",
    "- I recommend using fastchan to install pytorch and torchvision, see https://www.fast.ai/2021/07/15/fastconda/."
   ]
  },
  {
   "cell_type": "markdown",
   "metadata": {},
   "source": [
    "## Installing\n",
    "tmlearn is not packaged yet and require an [editable install](https://stackoverflow.com/questions/35064426/when-would-the-e-editable-option-be-useful-with-pip-install). To install clone this repo and run: `pip install -e \".[dev]\"`."
   ]
  }
 ],
 "metadata": {
  "kernelspec": {
   "display_name": "python3",
   "language": "python",
   "name": "python3"
  }
 },
 "nbformat": 4,
 "nbformat_minor": 4
}
