{
 "cells": [
  {
   "cell_type": "code",
   "execution_count": null,
   "id": "e0dc07ca",
   "metadata": {},
   "outputs": [],
   "source": [
    "# |default_exp callback"
   ]
  },
  {
   "cell_type": "code",
   "execution_count": null,
   "id": "d75b96ed",
   "metadata": {},
   "outputs": [],
   "source": [
    "# |export\n",
    "from functools import partial\n",
    "\n",
    "from fastcore.foundation import L, Self\n",
    "from fastcore.xtras import class2attr"
   ]
  },
  {
   "cell_type": "markdown",
   "id": "77feecef-ea0c-4599-ab61-0823c1b0e120",
   "metadata": {},
   "source": [
    "# Callback\n",
    "> Callbacks used by Learner and Collector to modify their behaviour"
   ]
  },
  {
   "cell_type": "code",
   "execution_count": null,
   "id": "7d58d1a6",
   "metadata": {},
   "outputs": [],
   "source": [
    "# |export\n",
    "class Callbackable:\n",
    "    def __init__(self, cbs=None):\n",
    "        self.cbs = L()\n",
    "        self.add_cbs(cbs)\n",
    "\n",
    "    def add_cbs(self, cbs):\n",
    "        L(cbs).map(self.add_cb)\n",
    "        return self\n",
    "\n",
    "    def add_cb(self, cb):\n",
    "        if isinstance(cb, (type, partial)):\n",
    "            cb = cb()\n",
    "        cb.parent = self\n",
    "        setattr(self, cb.name, cb)\n",
    "        self.cbs.append(cb)\n",
    "        return self\n",
    "\n",
    "    def __call__(self, event_name):\n",
    "        for cb in self.cbs:\n",
    "            event = getattr(cb, event_name, None)\n",
    "            if callable(event):\n",
    "                event()\n",
    "\n",
    "    def cbs_state_dict(self):\n",
    "        self.assert_unique()\n",
    "        return {\n",
    "            cb.name: cb.state_dict() for cb in self.cbs if hasattr(cb, \"state_dict\")\n",
    "        }\n",
    "\n",
    "    def load_cbs_state_dict(self, cbs_state_dict):\n",
    "        self.assert_unique()\n",
    "        for cb in self.cbs:\n",
    "            if hasattr(cb, \"load_state_dict\") and cb.name in cbs_state_dict:\n",
    "                cb.load_state_dict(cbs_state_dict[cb.name])\n",
    "\n",
    "    def assert_unique(self):\n",
    "        cb_names = self.cbs.map(Self.name)\n",
    "        assert len(cb_names) == len(set(cb_names)), \"Callback names must be unique\"\n",
    "\n",
    "\n",
    "class Callback:\n",
    "    @property\n",
    "    def name(self):\n",
    "        return class2attr(self, \"Callback\")"
   ]
  },
  {
   "cell_type": "code",
   "execution_count": null,
   "id": "b8ae544c",
   "metadata": {},
   "outputs": [],
   "source": [
    "# |hide\n",
    "# |eval: false\n",
    "from nbdev.doclinks import nbdev_export\n",
    "\n",
    "nbdev_export()"
   ]
  },
  {
   "cell_type": "code",
   "execution_count": null,
   "id": "a19a8732-62d0-42f6-bce1-5f3c19111286",
   "metadata": {},
   "outputs": [],
   "source": []
  }
 ],
 "metadata": {
  "kernelspec": {
   "display_name": "python3",
   "language": "python",
   "name": "python3"
  }
 },
 "nbformat": 4,
 "nbformat_minor": 5
}
