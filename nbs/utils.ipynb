{
 "cells": [
  {
   "cell_type": "code",
   "execution_count": null,
   "id": "f669958d",
   "metadata": {},
   "outputs": [],
   "source": [
    "# |default_exp utils"
   ]
  },
  {
   "cell_type": "code",
   "execution_count": null,
   "id": "66f44614",
   "metadata": {},
   "outputs": [],
   "source": [
    "# |export\n",
    "import logging\n",
    "from datetime import datetime\n",
    "from threading import Lock, Thread\n",
    "from time import sleep, time\n",
    "\n",
    "import psutil"
   ]
  },
  {
   "cell_type": "markdown",
   "id": "2fa0be6f-37f7-4986-887a-310ec70e7387",
   "metadata": {},
   "source": [
    "# Utils\n",
    "> Various utilities for trackmania-ai project"
   ]
  },
  {
   "cell_type": "code",
   "execution_count": null,
   "id": "e3f6dee2-680b-4961-b1a3-b7660b26782f",
   "metadata": {},
   "outputs": [],
   "source": [
    "# |export\n",
    "def log_memory(suffix=\"\"):\n",
    "    logging.debug(\n",
    "        f\"Current process uses {psutil.Process().memory_info().rss / (1024 * 1024)}MB{suffix}\"\n",
    "    )"
   ]
  },
  {
   "cell_type": "code",
   "execution_count": null,
   "id": "8b4bc514-d4ba-4e12-847f-35e1f846e530",
   "metadata": {},
   "outputs": [],
   "source": [
    "# |export\n",
    "def format_date(f=\"%Y/%m/%d %H:%M\"):\n",
    "    return datetime.now().strftime(f)\n",
    "\n",
    "\n",
    "def format_duration(seconds):\n",
    "    if not seconds:\n",
    "        return \"0s\"\n",
    "    m, s = divmod(seconds, 60)\n",
    "    h, m = divmod(m, 60)\n",
    "    d, h = divmod(h, 24)\n",
    "    return \"\".join(f\"{v}{l}\" for v, l in zip([d, h, m, s], list(\"dhms\")) if v)"
   ]
  },
  {
   "cell_type": "code",
   "execution_count": null,
   "id": "8c57c3d3",
   "metadata": {},
   "outputs": [],
   "source": [
    "# |export\n",
    "class IntervalCall(Thread):\n",
    "    def __init__(self, fn, interval):\n",
    "        super().__init__()\n",
    "        self.fn, self.interval = fn, interval\n",
    "        self.should_stop = False\n",
    "        self.start()\n",
    "\n",
    "    def run(self):\n",
    "        while not self.should_stop:\n",
    "            self.fn()\n",
    "            sleep(self.interval)\n",
    "\n",
    "    def __del__(self):\n",
    "        self.should_stop = True\n",
    "        self.join"
   ]
  },
  {
   "cell_type": "code",
   "execution_count": null,
   "id": "b0714a84",
   "metadata": {},
   "outputs": [],
   "source": [
    "# |export\n",
    "class Counter:\n",
    "    def __init__(self, value=0):\n",
    "        self.val = value\n",
    "        self._lock = Lock()\n",
    "\n",
    "    def increment(self):\n",
    "        with self._lock:\n",
    "            self.val += 1\n",
    "\n",
    "    def value(self):\n",
    "        with self._lock:\n",
    "            return self.val"
   ]
  },
  {
   "cell_type": "code",
   "execution_count": null,
   "id": "b6399ef7",
   "metadata": {},
   "outputs": [],
   "source": [
    "# |export\n",
    "class Timer:\n",
    "    def __init__(self, timeout):\n",
    "        self.start_time = time()\n",
    "        self.timeout = timeout\n",
    "\n",
    "    def __call__(self):\n",
    "        return self.timeout < time() - self.start_time\n",
    "\n",
    "    def progress(self):\n",
    "        return min((time() - self.start_time) / self.timeout, 1.0)\n",
    "\n",
    "    def reinit(self):\n",
    "        self.start_time = time()"
   ]
  },
  {
   "cell_type": "code",
   "execution_count": null,
   "id": "c891ceb0",
   "metadata": {},
   "outputs": [],
   "source": [
    "# |export\n",
    "class Triggers:\n",
    "    def __init__(self, trigger_values, condition=lambda trig, val: trig < val):\n",
    "        self.trigger_values, self.condition = trigger_values, condition\n",
    "        self.reset()\n",
    "\n",
    "    def reset(self):\n",
    "        self.done = False\n",
    "        self.gen = (x for x in self.trigger_values)\n",
    "        self._next()\n",
    "\n",
    "    def _next(self):\n",
    "        try:\n",
    "            self.trigger = next(self.gen)\n",
    "        except StopIteration:\n",
    "            self.trigger = None\n",
    "            self.done = True\n",
    "\n",
    "    def __call__(self, value):\n",
    "        if self.done:\n",
    "            return False\n",
    "        if self.condition(self.trigger, value):\n",
    "            self._next()\n",
    "            return True\n",
    "        return False"
   ]
  },
  {
   "cell_type": "code",
   "execution_count": null,
   "id": "46837d3a",
   "metadata": {},
   "outputs": [],
   "source": [
    "# |export\n",
    "def attrsToDict(obj, attrs):\n",
    "    return {attr: getattr(obj, attr) for attr in attrs}"
   ]
  },
  {
   "cell_type": "code",
   "execution_count": null,
   "id": "01153007",
   "metadata": {},
   "outputs": [],
   "source": [
    "# |hide\n",
    "# |eval: false\n",
    "from nbdev.doclinks import nbdev_export\n",
    "\n",
    "nbdev_export()"
   ]
  },
  {
   "cell_type": "code",
   "execution_count": null,
   "id": "615f84d4-475d-495a-ac84-e49e5ea94083",
   "metadata": {},
   "outputs": [],
   "source": []
  }
 ],
 "metadata": {
  "kernelspec": {
   "display_name": "python3",
   "language": "python",
   "name": "python3"
  }
 },
 "nbformat": 4,
 "nbformat_minor": 5
}
