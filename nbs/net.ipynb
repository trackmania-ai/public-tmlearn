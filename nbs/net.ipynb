{
 "cells": [
  {
   "cell_type": "code",
   "execution_count": null,
   "id": "29005508-e442-44f4-9f2c-a259f4b240e5",
   "metadata": {},
   "outputs": [],
   "source": [
    "# |default_exp net"
   ]
  },
  {
   "cell_type": "code",
   "execution_count": null,
   "id": "5a83354f-431b-430d-97c0-9f69adabb42e",
   "metadata": {},
   "outputs": [],
   "source": [
    "# |export\n",
    "import asyncio\n",
    "import json\n",
    "import logging\n",
    "import queue\n",
    "from threading import Thread\n",
    "\n",
    "import torch.multiprocessing as mp\n",
    "import websockets\n",
    "from fastapi import FastAPI, WebSocket, WebSocketDisconnect\n",
    "from uvicorn import Config, Server\n",
    "from websockets.exceptions import ConnectionClosedError, ConnectionClosedOK"
   ]
  },
  {
   "cell_type": "markdown",
   "id": "1f93a091-369a-4160-a915-03983aa4b385",
   "metadata": {},
   "source": [
    "# Net\n",
    "> Networking utilities"
   ]
  },
  {
   "cell_type": "code",
   "execution_count": null,
   "id": "44d89e8e-704e-4c62-93d5-3e8185286b34",
   "metadata": {},
   "outputs": [],
   "source": [
    "# |export\n",
    "class ThreadServer:\n",
    "    def __init__(self, app, **kwargs):\n",
    "        self.server = Server(Config(app, **kwargs))\n",
    "        self.thread = Thread(target=self.server.run)\n",
    "        self.thread.start()\n",
    "        while not self.server.started:\n",
    "            pass\n",
    "\n",
    "    @property\n",
    "    def port(self):\n",
    "        return (\n",
    "            self.server.config.port\n",
    "            or self.server.servers[0].sockets[0].getsockname()[1]\n",
    "        )\n",
    "\n",
    "    def __del__(self):\n",
    "        self.server.should_exit = True\n",
    "        self.thread.join()"
   ]
  },
  {
   "cell_type": "code",
   "execution_count": null,
   "id": "56c1eaa7-18dd-4c55-9ce6-b64fd8ae693d",
   "metadata": {},
   "outputs": [],
   "source": [
    "# |export\n",
    "class WebsocketServer(ThreadServer):\n",
    "    def __init__(self, port):\n",
    "        self.publishers = dict()\n",
    "        self.subscribers = dict()\n",
    "        self.last_object = dict()\n",
    "\n",
    "        app = FastAPI()\n",
    "\n",
    "        @app.websocket(\"/ws/{name}\")\n",
    "        async def websocket_endpoint(websocket: WebSocket, name: str):\n",
    "            if name not in self.publishers:\n",
    "                logging.info(f\"Publisher {name} does not exist..\")\n",
    "                return\n",
    "            await websocket.accept()\n",
    "            logging.debug(f\"WebSocket connection to {name}.\")\n",
    "            q = queue.Queue(2)\n",
    "            self.subscribers[name].append(q)\n",
    "            try:\n",
    "                if name in self.last_object:\n",
    "                    await websocket.send_json(self.last_object[name])\n",
    "                while True:\n",
    "                    try:\n",
    "                        o = q.get(False)\n",
    "                    except queue.Empty:\n",
    "                        await asyncio.sleep(0.001)\n",
    "                        continue\n",
    "                    await websocket.send_json(o)\n",
    "            except (WebSocketDisconnect, ConnectionClosedError, ConnectionClosedOK):\n",
    "                logging.debug(f\"WebSocket disconnection from {name}.\")\n",
    "                self.subscribers[name].remove(q)\n",
    "\n",
    "        super().__init__(app, host=\"127.0.0.1\", port=port, log_level=\"error\")\n",
    "\n",
    "    def _put_to_subscribers(self, name):\n",
    "        while True:\n",
    "            o = self.publishers[name].get()\n",
    "            for q in self.subscribers[name]:\n",
    "                try:\n",
    "                    q.put(o, False)\n",
    "                except queue.Full:\n",
    "                    pass\n",
    "            self.last_object[name] = o\n",
    "\n",
    "    def add_publisher(self, name):\n",
    "        logging.debug(f\"Adding {name} publisher to WebsocketServer\")\n",
    "        self.publishers[name] = mp.Queue(2)\n",
    "        self.subscribers[name] = []\n",
    "        Thread(target=self._put_to_subscribers, args=(name,)).start()\n",
    "        return self.publishers[name]"
   ]
  },
  {
   "cell_type": "code",
   "execution_count": null,
   "id": "b1ea6769-aa6f-46d7-b2e4-ff5449bdec8a",
   "metadata": {},
   "outputs": [],
   "source": [
    "# |hide\n",
    "# |eval: false\n",
    "from nbdev.doclinks import nbdev_export\n",
    "\n",
    "nbdev_export()"
   ]
  },
  {
   "cell_type": "code",
   "execution_count": null,
   "id": "e8b7e495-7561-47d9-bcd2-9b17aa07b6de",
   "metadata": {},
   "outputs": [],
   "source": []
  }
 ],
 "metadata": {
  "kernelspec": {
   "display_name": "python3",
   "language": "python",
   "name": "python3"
  }
 },
 "nbformat": 4,
 "nbformat_minor": 5
}
